{
 "cells": [
  {
   "cell_type": "markdown",
   "id": "ad8edf72",
   "metadata": {},
   "source": [
    "# 2. Parquet to Iceberg\n",
    "\n",
    "This notebook demonstrates the process of reading a Parquet file from the `grupo-2` bucket in MinIO and saving it to another bucket using the Apache Iceberg table format. The workflow utilizes `dlt` and Iceberg libraries, with data managed as a tabular dataset using the Nessie catalog for efficient querying and versioning. Note that this requires MinIO access and the Iceberg library installation. The Notebook:\n",
    "\n",
    "* Uses the MinIO API on port 9000 with credentials inferred from .dlt/secrets.toml.\n",
    "* Reads Parquet files from a specified bucket (e.g., s3://grupo-2/grupo_2_parquet/df_data)."
   ]
  },
  {
   "cell_type": "code",
   "execution_count": null,
   "id": "77563631-1867-4411-9cc9-b11d58eb412b",
   "metadata": {},
   "outputs": [],
   "source": []
  },
  {
   "cell_type": "code",
   "execution_count": 1,
   "id": "a1716caa",
   "metadata": {},
   "outputs": [
    {
     "name": "stdout",
     "output_type": "stream",
     "text": [
      "Requirement already satisfied: pandas in /opt/conda/lib/python3.11/site-packages (2.3.2)\n",
      "Requirement already satisfied: pyarrow in /opt/conda/lib/python3.11/site-packages (21.0.0)\n",
      "Requirement already satisfied: fsspec in /opt/conda/lib/python3.11/site-packages (2025.9.0)\n",
      "Requirement already satisfied: s3fs in /opt/conda/lib/python3.11/site-packages (2025.9.0)\n",
      "Requirement already satisfied: adlfs in /opt/conda/lib/python3.11/site-packages (2025.8.0)\n",
      "Requirement already satisfied: dlt[filesystem] in /opt/conda/lib/python3.11/site-packages (1.15.0)\n",
      "Requirement already satisfied: pyiceberg[rest-catalog] in /opt/conda/lib/python3.11/site-packages (0.9.1)\n",
      "Requirement already satisfied: numpy>=1.23.2 in /opt/conda/lib/python3.11/site-packages (from pandas) (2.3.2)\n",
      "Requirement already satisfied: python-dateutil>=2.8.2 in /opt/conda/lib/python3.11/site-packages (from pandas) (2.8.2)\n",
      "Requirement already satisfied: pytz>=2020.1 in /opt/conda/lib/python3.11/site-packages (from pandas) (2023.3.post1)\n",
      "Requirement already satisfied: tzdata>=2022.7 in /opt/conda/lib/python3.11/site-packages (from pandas) (2025.2)\n",
      "Requirement already satisfied: click>=7.1 in /opt/conda/lib/python3.11/site-packages (from dlt[filesystem]) (8.2.1)\n",
      "Requirement already satisfied: gitpython>=3.1.29 in /opt/conda/lib/python3.11/site-packages (from dlt[filesystem]) (3.1.45)\n",
      "Requirement already satisfied: giturlparse>=0.10.0 in /opt/conda/lib/python3.11/site-packages (from dlt[filesystem]) (0.12.0)\n",
      "Requirement already satisfied: hexbytes>=0.2.2 in /opt/conda/lib/python3.11/site-packages (from dlt[filesystem]) (1.3.1)\n",
      "Requirement already satisfied: humanize>=4.4.0 in /opt/conda/lib/python3.11/site-packages (from dlt[filesystem]) (4.13.0)\n",
      "Requirement already satisfied: jsonpath-ng>=1.5.3 in /opt/conda/lib/python3.11/site-packages (from dlt[filesystem]) (1.7.0)\n",
      "Requirement already satisfied: orjson!=3.10.1,!=3.9.11,!=3.9.12,!=3.9.13,!=3.9.14,<4,>=3.6.7 in /opt/conda/lib/python3.11/site-packages (from dlt[filesystem]) (3.11.3)\n",
      "Requirement already satisfied: packaging>=21.1 in /opt/conda/lib/python3.11/site-packages (from dlt[filesystem]) (23.2)\n",
      "Requirement already satisfied: pathvalidate>=2.5.2 in /opt/conda/lib/python3.11/site-packages (from dlt[filesystem]) (3.3.1)\n",
      "Requirement already satisfied: pendulum>=2.1.2 in /opt/conda/lib/python3.11/site-packages (from dlt[filesystem]) (3.1.0)\n",
      "Requirement already satisfied: pluggy>=1.3.0 in /opt/conda/lib/python3.11/site-packages (from dlt[filesystem]) (1.3.0)\n",
      "Requirement already satisfied: pyyaml>=5.4.1 in /opt/conda/lib/python3.11/site-packages (from dlt[filesystem]) (6.0.1)\n",
      "Requirement already satisfied: requests>=2.26.0 in /opt/conda/lib/python3.11/site-packages (from dlt[filesystem]) (2.31.0)\n",
      "Requirement already satisfied: requirements-parser>=0.5.0 in /opt/conda/lib/python3.11/site-packages (from dlt[filesystem]) (0.13.0)\n",
      "Requirement already satisfied: rich-argparse>=1.6.0 in /opt/conda/lib/python3.11/site-packages (from dlt[filesystem]) (1.7.1)\n",
      "Requirement already satisfied: semver>=3.0.0 in /opt/conda/lib/python3.11/site-packages (from dlt[filesystem]) (3.0.4)\n",
      "Requirement already satisfied: setuptools>=65.6.0 in /opt/conda/lib/python3.11/site-packages (from dlt[filesystem]) (68.2.2)\n",
      "Requirement already satisfied: simplejson>=3.17.5 in /opt/conda/lib/python3.11/site-packages (from dlt[filesystem]) (3.20.1)\n",
      "Requirement already satisfied: sqlglot>=25.4.0 in /opt/conda/lib/python3.11/site-packages (from dlt[filesystem]) (27.12.0)\n",
      "Requirement already satisfied: tenacity>=8.0.2 in /opt/conda/lib/python3.11/site-packages (from dlt[filesystem]) (9.1.2)\n",
      "Requirement already satisfied: tomlkit>=0.11.3 in /opt/conda/lib/python3.11/site-packages (from dlt[filesystem]) (0.13.3)\n",
      "Requirement already satisfied: typing-extensions>=4.8.0 in /opt/conda/lib/python3.11/site-packages (from dlt[filesystem]) (4.15.0)\n",
      "Requirement already satisfied: botocore>=1.28 in /opt/conda/lib/python3.11/site-packages (from dlt[filesystem]) (1.40.18)\n",
      "Requirement already satisfied: aiobotocore<3.0.0,>=2.5.4 in /opt/conda/lib/python3.11/site-packages (from s3fs) (2.24.2)\n",
      "Requirement already satisfied: aiohttp!=4.0.0a0,!=4.0.0a1 in /opt/conda/lib/python3.11/site-packages (from s3fs) (3.12.15)\n",
      "Requirement already satisfied: azure-core<2.0.0,>=1.28.0 in /opt/conda/lib/python3.11/site-packages (from adlfs) (1.35.0)\n",
      "Requirement already satisfied: azure-datalake-store<0.1,>=0.0.53 in /opt/conda/lib/python3.11/site-packages (from adlfs) (0.0.53)\n",
      "Requirement already satisfied: azure-identity in /opt/conda/lib/python3.11/site-packages (from adlfs) (1.24.0)\n",
      "Requirement already satisfied: azure-storage-blob>=12.17.0 in /opt/conda/lib/python3.11/site-packages (from adlfs) (12.26.0)\n",
      "\u001b[33mWARNING: pyiceberg 0.9.1 does not provide the extra 'rest-catalog'\u001b[0m\u001b[33m\n",
      "\u001b[0mRequirement already satisfied: cachetools<6.0.0,>=5.5.0 in /opt/conda/lib/python3.11/site-packages (from pyiceberg[rest-catalog]) (5.5.2)\n",
      "Requirement already satisfied: mmh3<6.0.0,>=4.0.0 in /opt/conda/lib/python3.11/site-packages (from pyiceberg[rest-catalog]) (5.2.0)\n",
      "Requirement already satisfied: pydantic!=2.4.0,!=2.4.1,<3.0,>=2.0 in /opt/conda/lib/python3.11/site-packages (from pyiceberg[rest-catalog]) (2.11.7)\n",
      "Requirement already satisfied: pyparsing<4.0.0,>=3.1.0 in /opt/conda/lib/python3.11/site-packages (from pyiceberg[rest-catalog]) (3.2.3)\n",
      "Requirement already satisfied: rich<14.0.0,>=10.11.0 in /opt/conda/lib/python3.11/site-packages (from pyiceberg[rest-catalog]) (13.9.4)\n",
      "Requirement already satisfied: sortedcontainers==2.4.0 in /opt/conda/lib/python3.11/site-packages (from pyiceberg[rest-catalog]) (2.4.0)\n",
      "Requirement already satisfied: strictyaml<2.0.0,>=1.7.0 in /opt/conda/lib/python3.11/site-packages (from pyiceberg[rest-catalog]) (1.7.3)\n",
      "Requirement already satisfied: aioitertools<1.0.0,>=0.5.1 in /opt/conda/lib/python3.11/site-packages (from aiobotocore<3.0.0,>=2.5.4->s3fs) (0.12.0)\n",
      "Requirement already satisfied: jmespath<2.0.0,>=0.7.1 in /opt/conda/lib/python3.11/site-packages (from aiobotocore<3.0.0,>=2.5.4->s3fs) (1.0.1)\n",
      "Requirement already satisfied: multidict<7.0.0,>=6.0.0 in /opt/conda/lib/python3.11/site-packages (from aiobotocore<3.0.0,>=2.5.4->s3fs) (6.6.4)\n",
      "Requirement already satisfied: wrapt<2.0.0,>=1.10.10 in /opt/conda/lib/python3.11/site-packages (from aiobotocore<3.0.0,>=2.5.4->s3fs) (1.17.3)\n",
      "Requirement already satisfied: aiohappyeyeballs>=2.5.0 in /opt/conda/lib/python3.11/site-packages (from aiohttp!=4.0.0a0,!=4.0.0a1->s3fs) (2.6.1)\n",
      "Requirement already satisfied: aiosignal>=1.4.0 in /opt/conda/lib/python3.11/site-packages (from aiohttp!=4.0.0a0,!=4.0.0a1->s3fs) (1.4.0)\n",
      "Requirement already satisfied: attrs>=17.3.0 in /opt/conda/lib/python3.11/site-packages (from aiohttp!=4.0.0a0,!=4.0.0a1->s3fs) (23.1.0)\n",
      "Requirement already satisfied: frozenlist>=1.1.1 in /opt/conda/lib/python3.11/site-packages (from aiohttp!=4.0.0a0,!=4.0.0a1->s3fs) (1.7.0)\n",
      "Requirement already satisfied: propcache>=0.2.0 in /opt/conda/lib/python3.11/site-packages (from aiohttp!=4.0.0a0,!=4.0.0a1->s3fs) (0.3.2)\n",
      "Requirement already satisfied: yarl<2.0,>=1.17.0 in /opt/conda/lib/python3.11/site-packages (from aiohttp!=4.0.0a0,!=4.0.0a1->s3fs) (1.20.1)\n",
      "Requirement already satisfied: six>=1.11.0 in /opt/conda/lib/python3.11/site-packages (from azure-core<2.0.0,>=1.28.0->adlfs) (1.16.0)\n",
      "Requirement already satisfied: cffi in /opt/conda/lib/python3.11/site-packages (from azure-datalake-store<0.1,>=0.0.53->adlfs) (1.16.0)\n",
      "Requirement already satisfied: msal<2,>=1.16.0 in /opt/conda/lib/python3.11/site-packages (from azure-datalake-store<0.1,>=0.0.53->adlfs) (1.33.0)\n",
      "Requirement already satisfied: cryptography>=2.1.4 in /opt/conda/lib/python3.11/site-packages (from azure-storage-blob>=12.17.0->adlfs) (41.0.4)\n",
      "Requirement already satisfied: isodate>=0.6.1 in /opt/conda/lib/python3.11/site-packages (from azure-storage-blob>=12.17.0->adlfs) (0.7.2)\n",
      "Requirement already satisfied: urllib3!=2.2.0,<3,>=1.25.4 in /opt/conda/lib/python3.11/site-packages (from botocore>=1.28->dlt[filesystem]) (2.0.7)\n",
      "Requirement already satisfied: gitdb<5,>=4.0.1 in /opt/conda/lib/python3.11/site-packages (from gitpython>=3.1.29->dlt[filesystem]) (4.0.12)\n",
      "Requirement already satisfied: ply in /opt/conda/lib/python3.11/site-packages (from jsonpath-ng>=1.5.3->dlt[filesystem]) (3.11)\n",
      "Requirement already satisfied: annotated-types>=0.6.0 in /opt/conda/lib/python3.11/site-packages (from pydantic!=2.4.0,!=2.4.1,<3.0,>=2.0->pyiceberg[rest-catalog]) (0.7.0)\n",
      "Requirement already satisfied: pydantic-core==2.33.2 in /opt/conda/lib/python3.11/site-packages (from pydantic!=2.4.0,!=2.4.1,<3.0,>=2.0->pyiceberg[rest-catalog]) (2.33.2)\n",
      "Requirement already satisfied: typing-inspection>=0.4.0 in /opt/conda/lib/python3.11/site-packages (from pydantic!=2.4.0,!=2.4.1,<3.0,>=2.0->pyiceberg[rest-catalog]) (0.4.1)\n",
      "Requirement already satisfied: charset-normalizer<4,>=2 in /opt/conda/lib/python3.11/site-packages (from requests>=2.26.0->dlt[filesystem]) (3.3.0)\n",
      "Requirement already satisfied: idna<4,>=2.5 in /opt/conda/lib/python3.11/site-packages (from requests>=2.26.0->dlt[filesystem]) (3.4)\n",
      "Requirement already satisfied: certifi>=2017.4.17 in /opt/conda/lib/python3.11/site-packages (from requests>=2.26.0->dlt[filesystem]) (2023.7.22)\n",
      "Requirement already satisfied: markdown-it-py>=2.2.0 in /opt/conda/lib/python3.11/site-packages (from rich<14.0.0,>=10.11.0->pyiceberg[rest-catalog]) (4.0.0)\n",
      "Requirement already satisfied: pygments<3.0.0,>=2.13.0 in /opt/conda/lib/python3.11/site-packages (from rich<14.0.0,>=10.11.0->pyiceberg[rest-catalog]) (2.16.1)\n",
      "Requirement already satisfied: msal-extensions>=1.2.0 in /opt/conda/lib/python3.11/site-packages (from azure-identity->adlfs) (1.3.1)\n",
      "Requirement already satisfied: pycparser in /opt/conda/lib/python3.11/site-packages (from cffi->azure-datalake-store<0.1,>=0.0.53->adlfs) (2.21)\n",
      "Requirement already satisfied: smmap<6,>=3.0.1 in /opt/conda/lib/python3.11/site-packages (from gitdb<5,>=4.0.1->gitpython>=3.1.29->dlt[filesystem]) (5.0.2)\n",
      "Requirement already satisfied: mdurl~=0.1 in /opt/conda/lib/python3.11/site-packages (from markdown-it-py>=2.2.0->rich<14.0.0,>=10.11.0->pyiceberg[rest-catalog]) (0.1.2)\n",
      "Requirement already satisfied: PyJWT<3,>=1.0.0 in /opt/conda/lib/python3.11/site-packages (from PyJWT[crypto]<3,>=1.0.0->msal<2,>=1.16.0->azure-datalake-store<0.1,>=0.0.53->adlfs) (2.8.0)\n"
     ]
    }
   ],
   "source": [
    "!pip install pandas pyarrow fsspec dlt[filesystem] s3fs adlfs pyiceberg[rest-catalog]"
   ]
  },
  {
   "cell_type": "code",
   "execution_count": null,
   "id": "9c46ac6a",
   "metadata": {},
   "outputs": [],
   "source": [
    "catalog = load_catalog(\n",
    "    \"nessie\",\n",
    "    **{\n",
    "        \"uri\": \"<http://nessie:19120>\",\n",
    "    }\n",
    ")\n",
    "\n",
    "namespaces = catalog.list_namespaces()\n",
    "print(\"Namespaces:\", namespaces)"
   ]
  },
  {
   "cell_type": "code",
   "execution_count": null,
   "id": "35db7808",
   "metadata": {},
   "outputs": [],
   "source": [
    "catalog.create_table(\n",
    "    \"demo.post_2020\",\n",
    "    schema=post_2020.schema,\n",
    "    location=\"s3://my-bucket/post_2020\",\n",
    "    properties={\"write.format.default\": \"parquet\"}\n",
    ")\n",
    "\n",
    "post_2020_table = catalog.load_table(\"demo.post_2020\")\n",
    "post_2020_table.overwrite(post_2020)\n"
   ]
  },
  {
   "cell_type": "code",
   "execution_count": null,
   "id": "633c22af",
   "metadata": {},
   "outputs": [],
   "source": [
    "pre_2020_table = catalog.load_table(\"demo.pre_2020\")\n",
    "pre_2020_table.merge_into(\n",
    "    source_table=pre_2020,\n",
    "    merge_condition=\"target.Id = source.Id\",\n",
    "    update={\"*\"},\n",
    "    insert={\"*\"}\n",
    ")"
   ]
  },
  {
   "cell_type": "code",
   "execution_count": null,
   "id": "ea3e06cc-92a9-4d4a-afc6-faad48d4bc79",
   "metadata": {},
   "outputs": [],
   "source": [
    "table.append(df)  # Agrega el Arrow Table a la tabla Iceberg (escribe Parquet subyacente)\n",
    "len(table.scan().to_arrow())  # Escanea la tabla, convierte a Arrow, cuenta filas\n",
    "arrow_table = table.scan().to_arrow()  # Escanea todo\n",
    "arrow_table.to_pandas()  # A Pandas completo\n",
    "arrow_table.to_pandas().head()  # Solo las primeras filas"
   ]
  },
  {
   "cell_type": "code",
   "execution_count": 2,
   "id": "2d523d03-251d-4f65-b305-d6c3adb57eb0",
   "metadata": {},
   "outputs": [],
   "source": [
    "import pandas as pd\n",
    "import dlt\n",
    "from dlt.sources.filesystem import filesystem, readers, read_parquet\n",
    "import pyarrow.parquet as pq\n",
    "import pyarrow as pa\n",
    "import fsspec\n",
    "from pyiceberg.catalog import Catalog\n",
    "from pyiceberg.io import load_file_io\n",
    "from pyiceberg.schema import Schema\n",
    "from pyiceberg.typedef import Properties\n",
    "import logging\n",
    "import fsspec\n",
    "from typing import Optional"
   ]
  },
  {
   "cell_type": "code",
   "execution_count": 3,
   "id": "4021ae88-16f5-4955-80b7-4ad7013c3f0d",
   "metadata": {},
   "outputs": [],
   "source": [
    "logging.basicConfig(\n",
    "    level=logging.INFO,\n",
    "    format=\"%(asctime)s - %(levelname)s - %(message)s\"\n",
    ")\n",
    "logger = logging.getLogger(\"parquet_to_iceberg\")"
   ]
  },
  {
   "cell_type": "code",
   "execution_count": 4,
   "id": "295605ab-5c17-4379-9607-dff65e78f057",
   "metadata": {},
   "outputs": [
    {
     "name": "stderr",
     "output_type": "stream",
     "text": [
      "2025-09-08 04:50:50,397 - INFO - Pipeline configured successfully with name: sources\n"
     ]
    }
   ],
   "source": [
    "# Configure the pipeline\n",
    "try:\n",
    "    pipeline = dlt.pipeline(\n",
    "        pipeline_name=\"sources\",  \n",
    "        destination=\"filesystem\",\n",
    "        dataset_name=\"grupo_2_parquet\"\n",
    "    )\n",
    "    logger.info(f\"Pipeline configured successfully with name: {pipeline.pipeline_name}\")\n",
    "except Exception as e:\n",
    "    logger.error(f\"Error configuring pipeline: {str(e)}\")\n",
    "    raise"
   ]
  },
  {
   "cell_type": "code",
   "execution_count": 6,
   "id": "aacb7a6a-964d-4fdd-a88a-5f678644503a",
   "metadata": {},
   "outputs": [],
   "source": [
    "@dlt.resource(name=\"grupo_2_data\", write_disposition=\"replace\")\n",
    "def minio_resource():\n",
    "    fs = filesystem(\n",
    "        bucket_url=\"s3://grupo-2/grupo_2_parquet/\",\n",
    "        file_glob=\"df_data/*.parquet\"\n",
    "    )\n",
    "    for file in fs:\n",
    "        yield file"
   ]
  },
  {
   "cell_type": "code",
   "execution_count": null,
   "id": "a4ebb18e-a33b-48a5-a4bc-b31ea1cd19c7",
   "metadata": {},
   "outputs": [],
   "source": [
    "from pyiceberg.catalog import load_catalog\n",
    "from pyiceberg.schema import Schema\n",
    "from pyiceberg.table import Table\n",
    "\n",
    "# Cargar catálogo Nessie\n",
    "catalog = load_catalog(\"nessie\", uri=\"http://nessie:19120\")\n",
    "\n",
    "# Crear tabla Iceberg si no existe\n",
    "schema = Schema(...)  # Define tu esquema aquí\n",
    "table = catalog.create_table(\n",
    "    identifier=\"grupo_2.iceberg_table\",\n",
    "    schema=schema,\n",
    "    location=\"s3://grupo-2-iceberg/\"\n",
    ")\n",
    "\n",
    "# Insertar datos (requiere conversión desde DLT a formato compatible)\n",
    "# Esto depende del motor: Spark, Pandas, Arrow, etc."
   ]
  },
  {
   "cell_type": "code",
   "execution_count": 7,
   "id": "e46d0a06-8d3d-4b42-9584-4e7e130ad870",
   "metadata": {},
   "outputs": [
    {
     "name": "stderr",
     "output_type": "stream",
     "text": [
      "2025-09-08 04:51:01,076|[WARNING]|85|133058470414144|dlt|validate.py|verify_normalized_table:57|In schema `sources`: The following columns in table 'grupo_2_data' did not receive any data during this load and therefore could not have their types inferred:\n",
      "  - encoding\n",
      "\n",
      "Unless type hints are provided, these columns will not be materialized in the destination.\n",
      "One way to provide type hints is to use the 'columns' argument in the '@dlt.resource' decorator.  For example:\n",
      "\n",
      "@dlt.resource(columns={'encoding': {'data_type': 'text'}})\n",
      "\n"
     ]
    },
    {
     "name": "stdout",
     "output_type": "stream",
     "text": [
      "✅ Carga completada: Pipeline sources load step completed in 0.22 seconds\n",
      "1 load package(s) were loaded to destination filesystem and into dataset grupo_2_parquet\n",
      "The filesystem destination used s3://grupo-2/grupo_2_parquet/df_data location to store data\n",
      "Load package 1757307060.9524126 is LOADED and contains no failed jobs\n"
     ]
    }
   ],
   "source": [
    "load_info = pipeline.run(minio_resource)\n",
    "print(f\"✅ Carga completada: {load_info}\")\n"
   ]
  },
  {
   "cell_type": "code",
   "execution_count": null,
   "id": "2aa56b4a-66b6-4830-b6ae-d554636dd577",
   "metadata": {},
   "outputs": [],
   "source": []
  }
 ],
 "metadata": {
  "kernelspec": {
   "display_name": "Python 3 (ipykernel)",
   "language": "python",
   "name": "python3"
  },
  "language_info": {
   "codemirror_mode": {
    "name": "ipython",
    "version": 3
   },
   "file_extension": ".py",
   "mimetype": "text/x-python",
   "name": "python",
   "nbconvert_exporter": "python",
   "pygments_lexer": "ipython3",
   "version": "3.11.6"
  }
 },
 "nbformat": 4,
 "nbformat_minor": 5
}
