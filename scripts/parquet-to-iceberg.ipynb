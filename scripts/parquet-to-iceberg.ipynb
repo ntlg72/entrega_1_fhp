{
 "cells": [
  {
   "cell_type": "markdown",
   "id": "ad8edf72",
   "metadata": {},
   "source": [
    "# 2. Parquet to Iceberg\n",
    "\n",
    "This notebook demonstrates the process of reading a Parquet file from the `grupo-2` bucket in MinIO and saving it to another bucket using the Apache Iceberg table format. The workflow utilizes `dlt` and Iceberg libraries, with data managed as a tabular dataset using the Nessie catalog for efficient querying and versioning. Note that this requires MinIO access and the Iceberg library installation. The Notebook:\n",
    "\n",
    "* Uses the MinIO API on port 9000 with credentials inferred from .dlt/secrets.toml.\n",
    "* Reads Parquet files from a specified bucket (e.g., s3://grupo-2/grupo_2_parquet/df_data)."
   ]
  },
  {
   "cell_type": "code",
   "execution_count": 1,
   "id": "a1716caa",
   "metadata": {},
   "outputs": [
    {
     "name": "stdout",
     "output_type": "stream",
     "text": [
      "Requirement already satisfied: pandas in /opt/conda/lib/python3.11/site-packages (2.3.2)\n",
      "Requirement already satisfied: pyarrow in /opt/conda/lib/python3.11/site-packages (21.0.0)\n",
      "Requirement already satisfied: fsspec in /opt/conda/lib/python3.11/site-packages (2025.9.0)\n",
      "Requirement already satisfied: s3fs in /opt/conda/lib/python3.11/site-packages (2025.9.0)\n",
      "Requirement already satisfied: adlfs in /opt/conda/lib/python3.11/site-packages (2025.8.0)\n",
      "Requirement already satisfied: toml in /opt/conda/lib/python3.11/site-packages (0.10.2)\n",
      "Requirement already satisfied: dlt[filesystem] in /opt/conda/lib/python3.11/site-packages (1.15.0)\n",
      "Requirement already satisfied: pyiceberg[s3fs,sql-sqlite] in /opt/conda/lib/python3.11/site-packages (0.9.1)\n",
      "Requirement already satisfied: numpy>=1.23.2 in /opt/conda/lib/python3.11/site-packages (from pandas) (2.3.2)\n",
      "Requirement already satisfied: python-dateutil>=2.8.2 in /opt/conda/lib/python3.11/site-packages (from pandas) (2.8.2)\n",
      "Requirement already satisfied: pytz>=2020.1 in /opt/conda/lib/python3.11/site-packages (from pandas) (2023.3.post1)\n",
      "Requirement already satisfied: tzdata>=2022.7 in /opt/conda/lib/python3.11/site-packages (from pandas) (2025.2)\n",
      "Requirement already satisfied: click>=7.1 in /opt/conda/lib/python3.11/site-packages (from dlt[filesystem]) (8.2.1)\n",
      "Requirement already satisfied: gitpython>=3.1.29 in /opt/conda/lib/python3.11/site-packages (from dlt[filesystem]) (3.1.45)\n",
      "Requirement already satisfied: giturlparse>=0.10.0 in /opt/conda/lib/python3.11/site-packages (from dlt[filesystem]) (0.12.0)\n",
      "Requirement already satisfied: hexbytes>=0.2.2 in /opt/conda/lib/python3.11/site-packages (from dlt[filesystem]) (1.3.1)\n",
      "Requirement already satisfied: humanize>=4.4.0 in /opt/conda/lib/python3.11/site-packages (from dlt[filesystem]) (4.13.0)\n",
      "Requirement already satisfied: jsonpath-ng>=1.5.3 in /opt/conda/lib/python3.11/site-packages (from dlt[filesystem]) (1.7.0)\n",
      "Requirement already satisfied: orjson!=3.10.1,!=3.9.11,!=3.9.12,!=3.9.13,!=3.9.14,<4,>=3.6.7 in /opt/conda/lib/python3.11/site-packages (from dlt[filesystem]) (3.11.3)\n",
      "Requirement already satisfied: packaging>=21.1 in /opt/conda/lib/python3.11/site-packages (from dlt[filesystem]) (23.2)\n",
      "Requirement already satisfied: pathvalidate>=2.5.2 in /opt/conda/lib/python3.11/site-packages (from dlt[filesystem]) (3.3.1)\n",
      "Requirement already satisfied: pendulum>=2.1.2 in /opt/conda/lib/python3.11/site-packages (from dlt[filesystem]) (3.1.0)\n",
      "Requirement already satisfied: pluggy>=1.3.0 in /opt/conda/lib/python3.11/site-packages (from dlt[filesystem]) (1.3.0)\n",
      "Requirement already satisfied: pyyaml>=5.4.1 in /opt/conda/lib/python3.11/site-packages (from dlt[filesystem]) (6.0.1)\n",
      "Requirement already satisfied: requests>=2.26.0 in /opt/conda/lib/python3.11/site-packages (from dlt[filesystem]) (2.31.0)\n",
      "Requirement already satisfied: requirements-parser>=0.5.0 in /opt/conda/lib/python3.11/site-packages (from dlt[filesystem]) (0.13.0)\n",
      "Requirement already satisfied: rich-argparse>=1.6.0 in /opt/conda/lib/python3.11/site-packages (from dlt[filesystem]) (1.7.1)\n",
      "Requirement already satisfied: semver>=3.0.0 in /opt/conda/lib/python3.11/site-packages (from dlt[filesystem]) (3.0.4)\n",
      "Requirement already satisfied: setuptools>=65.6.0 in /opt/conda/lib/python3.11/site-packages (from dlt[filesystem]) (68.2.2)\n",
      "Requirement already satisfied: simplejson>=3.17.5 in /opt/conda/lib/python3.11/site-packages (from dlt[filesystem]) (3.20.1)\n",
      "Requirement already satisfied: sqlglot>=25.4.0 in /opt/conda/lib/python3.11/site-packages (from dlt[filesystem]) (27.13.2)\n",
      "Requirement already satisfied: tenacity>=8.0.2 in /opt/conda/lib/python3.11/site-packages (from dlt[filesystem]) (9.1.2)\n",
      "Requirement already satisfied: tomlkit>=0.11.3 in /opt/conda/lib/python3.11/site-packages (from dlt[filesystem]) (0.13.3)\n",
      "Requirement already satisfied: typing-extensions>=4.8.0 in /opt/conda/lib/python3.11/site-packages (from dlt[filesystem]) (4.15.0)\n",
      "Requirement already satisfied: botocore>=1.28 in /opt/conda/lib/python3.11/site-packages (from dlt[filesystem]) (1.40.18)\n",
      "Requirement already satisfied: aiobotocore<3.0.0,>=2.5.4 in /opt/conda/lib/python3.11/site-packages (from s3fs) (2.24.2)\n",
      "Requirement already satisfied: aiohttp!=4.0.0a0,!=4.0.0a1 in /opt/conda/lib/python3.11/site-packages (from s3fs) (3.12.15)\n",
      "Requirement already satisfied: azure-core<2.0.0,>=1.28.0 in /opt/conda/lib/python3.11/site-packages (from adlfs) (1.35.0)\n",
      "Requirement already satisfied: azure-datalake-store<0.1,>=0.0.53 in /opt/conda/lib/python3.11/site-packages (from adlfs) (0.0.53)\n",
      "Requirement already satisfied: azure-identity in /opt/conda/lib/python3.11/site-packages (from adlfs) (1.24.0)\n",
      "Requirement already satisfied: azure-storage-blob>=12.17.0 in /opt/conda/lib/python3.11/site-packages (from adlfs) (12.26.0)\n",
      "Requirement already satisfied: cachetools<6.0.0,>=5.5.0 in /opt/conda/lib/python3.11/site-packages (from pyiceberg[s3fs,sql-sqlite]) (5.5.2)\n",
      "Requirement already satisfied: mmh3<6.0.0,>=4.0.0 in /opt/conda/lib/python3.11/site-packages (from pyiceberg[s3fs,sql-sqlite]) (5.2.0)\n",
      "Requirement already satisfied: pydantic!=2.4.0,!=2.4.1,<3.0,>=2.0 in /opt/conda/lib/python3.11/site-packages (from pyiceberg[s3fs,sql-sqlite]) (2.11.7)\n",
      "Requirement already satisfied: pyparsing<4.0.0,>=3.1.0 in /opt/conda/lib/python3.11/site-packages (from pyiceberg[s3fs,sql-sqlite]) (3.2.3)\n",
      "Requirement already satisfied: rich<14.0.0,>=10.11.0 in /opt/conda/lib/python3.11/site-packages (from pyiceberg[s3fs,sql-sqlite]) (13.9.4)\n",
      "Requirement already satisfied: sortedcontainers==2.4.0 in /opt/conda/lib/python3.11/site-packages (from pyiceberg[s3fs,sql-sqlite]) (2.4.0)\n",
      "Requirement already satisfied: sqlalchemy<3.0.0,>=2.0.18 in /opt/conda/lib/python3.11/site-packages (from pyiceberg[s3fs,sql-sqlite]) (2.0.22)\n",
      "Requirement already satisfied: strictyaml<2.0.0,>=1.7.0 in /opt/conda/lib/python3.11/site-packages (from pyiceberg[s3fs,sql-sqlite]) (1.7.3)\n",
      "Requirement already satisfied: aioitertools<1.0.0,>=0.5.1 in /opt/conda/lib/python3.11/site-packages (from aiobotocore<3.0.0,>=2.5.4->s3fs) (0.12.0)\n",
      "Requirement already satisfied: jmespath<2.0.0,>=0.7.1 in /opt/conda/lib/python3.11/site-packages (from aiobotocore<3.0.0,>=2.5.4->s3fs) (1.0.1)\n",
      "Requirement already satisfied: multidict<7.0.0,>=6.0.0 in /opt/conda/lib/python3.11/site-packages (from aiobotocore<3.0.0,>=2.5.4->s3fs) (6.6.4)\n",
      "Requirement already satisfied: wrapt<2.0.0,>=1.10.10 in /opt/conda/lib/python3.11/site-packages (from aiobotocore<3.0.0,>=2.5.4->s3fs) (1.17.3)\n",
      "Requirement already satisfied: aiohappyeyeballs>=2.5.0 in /opt/conda/lib/python3.11/site-packages (from aiohttp!=4.0.0a0,!=4.0.0a1->s3fs) (2.6.1)\n",
      "Requirement already satisfied: aiosignal>=1.4.0 in /opt/conda/lib/python3.11/site-packages (from aiohttp!=4.0.0a0,!=4.0.0a1->s3fs) (1.4.0)\n",
      "Requirement already satisfied: attrs>=17.3.0 in /opt/conda/lib/python3.11/site-packages (from aiohttp!=4.0.0a0,!=4.0.0a1->s3fs) (23.1.0)\n",
      "Requirement already satisfied: frozenlist>=1.1.1 in /opt/conda/lib/python3.11/site-packages (from aiohttp!=4.0.0a0,!=4.0.0a1->s3fs) (1.7.0)\n",
      "Requirement already satisfied: propcache>=0.2.0 in /opt/conda/lib/python3.11/site-packages (from aiohttp!=4.0.0a0,!=4.0.0a1->s3fs) (0.3.2)\n",
      "Requirement already satisfied: yarl<2.0,>=1.17.0 in /opt/conda/lib/python3.11/site-packages (from aiohttp!=4.0.0a0,!=4.0.0a1->s3fs) (1.20.1)\n",
      "Requirement already satisfied: six>=1.11.0 in /opt/conda/lib/python3.11/site-packages (from azure-core<2.0.0,>=1.28.0->adlfs) (1.16.0)\n",
      "Requirement already satisfied: cffi in /opt/conda/lib/python3.11/site-packages (from azure-datalake-store<0.1,>=0.0.53->adlfs) (1.16.0)\n",
      "Requirement already satisfied: msal<2,>=1.16.0 in /opt/conda/lib/python3.11/site-packages (from azure-datalake-store<0.1,>=0.0.53->adlfs) (1.33.0)\n",
      "Requirement already satisfied: cryptography>=2.1.4 in /opt/conda/lib/python3.11/site-packages (from azure-storage-blob>=12.17.0->adlfs) (41.0.4)\n",
      "Requirement already satisfied: isodate>=0.6.1 in /opt/conda/lib/python3.11/site-packages (from azure-storage-blob>=12.17.0->adlfs) (0.7.2)\n",
      "Requirement already satisfied: urllib3!=2.2.0,<3,>=1.25.4 in /opt/conda/lib/python3.11/site-packages (from botocore>=1.28->dlt[filesystem]) (2.0.7)\n",
      "Requirement already satisfied: gitdb<5,>=4.0.1 in /opt/conda/lib/python3.11/site-packages (from gitpython>=3.1.29->dlt[filesystem]) (4.0.12)\n",
      "Requirement already satisfied: ply in /opt/conda/lib/python3.11/site-packages (from jsonpath-ng>=1.5.3->dlt[filesystem]) (3.11)\n",
      "Requirement already satisfied: annotated-types>=0.6.0 in /opt/conda/lib/python3.11/site-packages (from pydantic!=2.4.0,!=2.4.1,<3.0,>=2.0->pyiceberg[s3fs,sql-sqlite]) (0.7.0)\n",
      "Requirement already satisfied: pydantic-core==2.33.2 in /opt/conda/lib/python3.11/site-packages (from pydantic!=2.4.0,!=2.4.1,<3.0,>=2.0->pyiceberg[s3fs,sql-sqlite]) (2.33.2)\n",
      "Requirement already satisfied: typing-inspection>=0.4.0 in /opt/conda/lib/python3.11/site-packages (from pydantic!=2.4.0,!=2.4.1,<3.0,>=2.0->pyiceberg[s3fs,sql-sqlite]) (0.4.1)\n",
      "Requirement already satisfied: charset-normalizer<4,>=2 in /opt/conda/lib/python3.11/site-packages (from requests>=2.26.0->dlt[filesystem]) (3.3.0)\n",
      "Requirement already satisfied: idna<4,>=2.5 in /opt/conda/lib/python3.11/site-packages (from requests>=2.26.0->dlt[filesystem]) (3.4)\n",
      "Requirement already satisfied: certifi>=2017.4.17 in /opt/conda/lib/python3.11/site-packages (from requests>=2.26.0->dlt[filesystem]) (2023.7.22)\n",
      "Requirement already satisfied: markdown-it-py>=2.2.0 in /opt/conda/lib/python3.11/site-packages (from rich<14.0.0,>=10.11.0->pyiceberg[s3fs,sql-sqlite]) (4.0.0)\n",
      "Requirement already satisfied: pygments<3.0.0,>=2.13.0 in /opt/conda/lib/python3.11/site-packages (from rich<14.0.0,>=10.11.0->pyiceberg[s3fs,sql-sqlite]) (2.16.1)\n",
      "Requirement already satisfied: greenlet!=0.4.17 in /opt/conda/lib/python3.11/site-packages (from sqlalchemy<3.0.0,>=2.0.18->pyiceberg[s3fs,sql-sqlite]) (3.0.0)\n",
      "Requirement already satisfied: msal-extensions>=1.2.0 in /opt/conda/lib/python3.11/site-packages (from azure-identity->adlfs) (1.3.1)\n",
      "Requirement already satisfied: pycparser in /opt/conda/lib/python3.11/site-packages (from cffi->azure-datalake-store<0.1,>=0.0.53->adlfs) (2.21)\n",
      "Requirement already satisfied: smmap<6,>=3.0.1 in /opt/conda/lib/python3.11/site-packages (from gitdb<5,>=4.0.1->gitpython>=3.1.29->dlt[filesystem]) (5.0.2)\n",
      "Requirement already satisfied: mdurl~=0.1 in /opt/conda/lib/python3.11/site-packages (from markdown-it-py>=2.2.0->rich<14.0.0,>=10.11.0->pyiceberg[s3fs,sql-sqlite]) (0.1.2)\n",
      "Requirement already satisfied: PyJWT<3,>=1.0.0 in /opt/conda/lib/python3.11/site-packages (from PyJWT[crypto]<3,>=1.0.0->msal<2,>=1.16.0->azure-datalake-store<0.1,>=0.0.53->adlfs) (2.8.0)\n",
      "Note: you may need to restart the kernel to use updated packages.\n"
     ]
    }
   ],
   "source": [
    "%pip install pandas pyarrow fsspec dlt[filesystem] s3fs adlfs pyiceberg[s3fs,sql-sqlite] toml"
   ]
  },
  {
   "cell_type": "code",
   "execution_count": 2,
   "id": "633c22af",
   "metadata": {},
   "outputs": [],
   "source": [
    "# General utilities\n",
    "import os\n",
    "import toml\n",
    "import logging\n",
    "from typing import Optional\n",
    "\n",
    "# Data manipulation\n",
    "import pandas as pd\n",
    "\n",
    "# dlt: Reading from filesystem\n",
    "import dlt\n",
    "from dlt.sources.filesystem import filesystem, read_parquet\n",
    "\n",
    "# PyArrow: Reading and Convertion\n",
    "import pyarrow as pa\n",
    "import pyarrow.parquet as pq\n",
    "import pyarrow.dataset as ds\n",
    "import pyarrow.fs as fs\n",
    "\n",
    "# PyIceberg\n",
    "import pyiceberg\n",
    "from pyiceberg.catalog import load_catalog\n",
    "from pyiceberg.table import Table\n",
    "from pyiceberg.schema import Schema, NestedField\n",
    "from pyiceberg.types import (\n",
    "    BooleanType, IntegerType, LongType, FloatType, DoubleType,\n",
    "    StringType, TimestampType, DateType\n",
    ")"
   ]
  },
  {
   "cell_type": "code",
   "execution_count": 3,
   "id": "ea3e06cc-92a9-4d4a-afc6-faad48d4bc79",
   "metadata": {},
   "outputs": [],
   "source": [
    "logging.basicConfig(\n",
    "    level=logging.INFO,\n",
    "    format=\"%(asctime)s - %(levelname)s - %(message)s\"\n",
    ")\n",
    "logger = logging.getLogger(\"parquet_to_iceberg\")"
   ]
  },
  {
   "cell_type": "code",
   "execution_count": 4,
   "id": "2d523d03-251d-4f65-b305-d6c3adb57eb0",
   "metadata": {},
   "outputs": [
    {
     "name": "stderr",
     "output_type": "stream",
     "text": [
      "2025-09-09 08:19:49,739 - INFO - Pipeline configured successfully with name: sources\n"
     ]
    }
   ],
   "source": [
    "# Configure the pipeline\n",
    "try:\n",
    "    pipeline = dlt.pipeline(\n",
    "        pipeline_name=\"sources\",  \n",
    "        destination=\"filesystem\",\n",
    "    )\n",
    "    logger.info(f\"Pipeline configured successfully with name: {pipeline.pipeline_name}\")\n",
    "except Exception as e:\n",
    "    logger.error(f\"Error configuring pipeline: {str(e)}\")\n",
    "    raise"
   ]
  },
  {
   "cell_type": "code",
   "execution_count": 5,
   "id": "92d7f59b-f72d-4267-b7f1-db9cdc7bcabb",
   "metadata": {},
   "outputs": [],
   "source": [
    "# Cargar el archivo de configuración\n",
    "config = toml.load(\"/home/jovyan/work/.dlt/secrets.toml\")\n",
    "\n",
    "# Extraer credenciales\n",
    "creds = config[\"parquet_to_minio\"][\"destination\"][\"filesystem\"][\"credentials\"]\n",
    "\n",
    "# Exportar a variables de entorno\n",
    "os.environ[\"AWS_ACCESS_KEY_ID\"] = creds[\"aws_access_key_id\"]\n",
    "os.environ[\"AWS_SECRET_ACCESS_KEY\"] = creds[\"aws_secret_access_key\"]\n",
    "os.environ[\"AWS_ENDPOINT_URL\"] = creds.get(\"endpoint_url\", \"\")  "
   ]
  },
  {
   "cell_type": "code",
   "execution_count": 6,
   "id": "ffe2f6fa-3fd2-4f36-ac71-45016aaad7b9",
   "metadata": {},
   "outputs": [],
   "source": [
    "# Si estás en local, usa la ruta al directorio donde dlt guardó los Parquet\n",
    "dataset = ds.dataset(\n",
    "    source=\"s3://grupo-2/grupo_2_parquet/df_data\",  # Ajusta según tu ruta\n",
    "    format=\"parquet\"\n",
    ")\n",
    "\n",
    "# Convertir a Arrow Table\n",
    "table = dataset.to_table()"
   ]
  },
  {
   "cell_type": "code",
   "execution_count": 7,
   "id": "f72aabff-0fed-4924-9e6a-cffab0e019da",
   "metadata": {},
   "outputs": [
    {
     "name": "stdout",
     "output_type": "stream",
     "text": [
      "vendor_id: int32\n",
      "tpep_pickup_datetime: timestamp[us]\n",
      "tpep_dropoff_datetime: timestamp[us]\n",
      "passenger_count: double\n",
      "trip_distance: double\n",
      "ratecode_id: double\n",
      "store_and_fwd_flag: string\n",
      "pu_location_id: int32\n",
      "do_location_id: int32\n",
      "payment_type: int64\n",
      "fare_amount: double\n",
      "extra: double\n",
      "mta_tax: double\n",
      "tip_amount: double\n",
      "tolls_amount: double\n",
      "improvement_surcharge: double\n",
      "total_amount: double\n",
      "congestion_surcharge: double\n",
      "airport_fee: double\n",
      "cbd_congestion_fee: double\n"
     ]
    }
   ],
   "source": [
    "# Show schema\n",
    "print(table.schema)"
   ]
  },
  {
   "cell_type": "code",
   "execution_count": 8,
   "id": "916885fd-c33f-4e76-8d7a-255b19b22ae7",
   "metadata": {},
   "outputs": [
    {
     "name": "stdout",
     "output_type": "stream",
     "text": [
      "Namespaces: []\n"
     ]
    }
   ],
   "source": [
    "catalog = load_catalog(\n",
    "    \"nessie\",\n",
    "    uri=\"http://nessie:19120/iceberg/\",\n",
    "    type=\"rest\"\n",
    ")\n",
    "\n",
    "namespaces = catalog.list_namespaces()\n",
    "print(\"Namespaces:\", namespaces)"
   ]
  },
  {
   "cell_type": "code",
   "execution_count": 9,
   "id": "cde86dba-8307-4bea-85f0-ea4537a80fba",
   "metadata": {},
   "outputs": [],
   "source": [
    "catalog.create_namespace(\"proyecto\")"
   ]
  },
  {
   "cell_type": "code",
   "execution_count": 10,
   "id": "d79697fc-93a3-43bc-bb85-463284faec6b",
   "metadata": {},
   "outputs": [
    {
     "name": "stdout",
     "output_type": "stream",
     "text": [
      "Namespaces: [('proyecto',)]\n"
     ]
    }
   ],
   "source": [
    "namespaces = catalog.list_namespaces()\n",
    "print(\"Namespaces:\", namespaces)"
   ]
  },
  {
   "cell_type": "code",
   "execution_count": 11,
   "id": "0c7ffbea-17a2-4c87-9931-c0e27066f6e9",
   "metadata": {},
   "outputs": [],
   "source": [
    "table_schema = dataset.schema"
   ]
  },
  {
   "cell_type": "code",
   "execution_count": 12,
   "id": "1288cf63-4b67-4650-93a8-f9bf0995bb87",
   "metadata": {},
   "outputs": [
    {
     "name": "stderr",
     "output_type": "stream",
     "text": [
      "2025-09-09 08:19:51,482 - INFO - Table 'proyecto.grupo2' successfully created at location 's3://grupo-2/'.\n"
     ]
    }
   ],
   "source": [
    "try:\n",
    "    catalog.create_table(\n",
    "        \"proyecto.grupo2\",\n",
    "        schema=table_schema,\n",
    "        location=\"s3://grupo-2/\"\n",
    "    )\n",
    "    logger.info(\"Table 'proyecto.grupo2' successfully created at location 's3://grupo-2/'.\")\n",
    "except Exception as e:\n",
    "    logger.exception(\"Unexpected error during table creation.\")"
   ]
  },
  {
   "cell_type": "code",
   "execution_count": 13,
   "id": "b2c0f579-aa85-44e5-9ec6-3f4893276f69",
   "metadata": {},
   "outputs": [
    {
     "name": "stderr",
     "output_type": "stream",
     "text": [
      "2025-09-09 08:19:51,594 - INFO - Table 'proyecto.grupo2' loaded successfully.\n"
     ]
    }
   ],
   "source": [
    "try:\n",
    "    dataset = catalog.load_table(\"proyecto.grupo2\")\n",
    "    logger.info(\"Table 'proyecto.grupo2' loaded successfully.\")\n",
    "except Exception as e:\n",
    "    logger.exception(\"Unexpected error while loading 'proyecto.grupo2'.\")"
   ]
  },
  {
   "cell_type": "code",
   "execution_count": 14,
   "id": "dbd1df91-3682-49ff-897e-d8ac782d98d2",
   "metadata": {},
   "outputs": [
    {
     "name": "stderr",
     "output_type": "stream",
     "text": [
      "2025-09-09 08:19:53,203 - INFO - Data successfully appended to 'proyecto.grupo2'.\n"
     ]
    }
   ],
   "source": [
    "try:\n",
    "    dataset.append(table)\n",
    "    logger.info(\"Data successfully appended to 'proyecto.grupo2'.\")\n",
    "except Exception as e:\n",
    "    logger.exception(\"Unexpected error during append operation.\")"
   ]
  },
  {
   "cell_type": "code",
   "execution_count": 15,
   "id": "5fdd025c-0fb8-4880-808e-1a26683e2567",
   "metadata": {},
   "outputs": [
    {
     "name": "stdout",
     "output_type": "stream",
     "text": [
      "[('proyecto', 'grupo2')]\n"
     ]
    }
   ],
   "source": [
    "print(catalog.list_tables(\"proyecto\"))"
   ]
  },
  {
   "cell_type": "code",
   "execution_count": null,
   "id": "6f526d65-43e4-499d-a67a-279415236c7d",
   "metadata": {},
   "outputs": [],
   "source": []
  }
 ],
 "metadata": {
  "kernelspec": {
   "display_name": "Python 3 (ipykernel)",
   "language": "python",
   "name": "python3"
  },
  "language_info": {
   "codemirror_mode": {
    "name": "ipython",
    "version": 3
   },
   "file_extension": ".py",
   "mimetype": "text/x-python",
   "name": "python",
   "nbconvert_exporter": "python",
   "pygments_lexer": "ipython3",
   "version": "3.11.6"
  }
 },
 "nbformat": 4,
 "nbformat_minor": 5
}
