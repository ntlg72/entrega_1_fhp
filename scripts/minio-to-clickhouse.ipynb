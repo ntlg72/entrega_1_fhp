{
 "cells": [
  {
   "cell_type": "markdown",
   "id": "f8d516b3",
   "metadata": {},
   "source": [
    "# 3. Minio-to-Azure\n",
    "\n",
    "This notebook demonstrates the process of moving a Parquet file, managed as an Iceberg table using the Nessie catalog, from MinIO to a group-specific folder in Azure storage. The workflow leverages `dlt` and Iceberg libraries for the transfer."
   ]
  }
 ],
 "metadata": {
  "kernelspec": {
   "display_name": "Python 3 (ipykernel)",
   "language": "python",
   "name": "python3"
  },
  "language_info": {
   "codemirror_mode": {
    "name": "ipython",
    "version": 3
   },
   "file_extension": ".py",
   "mimetype": "text/x-python",
   "name": "python",
   "nbconvert_exporter": "python",
   "pygments_lexer": "ipython3",
   "version": "3.11.6"
  }
 },
 "nbformat": 4,
 "nbformat_minor": 5
}
