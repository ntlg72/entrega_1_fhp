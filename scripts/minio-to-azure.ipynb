{
 "cells": [
  {
   "cell_type": "markdown",
   "id": "0a66665d",
   "metadata": {},
   "source": [
    "# 3. Minio-to-Azure\n",
    "\n",
    "This notebook outlines the process of moving a Parquet file, managed as an Iceberg table using the Nessie catalog, from the `grupo-2` bucket in MinIO to a group-specific folder in Azure storage. The workflow employs `dlt` and Iceberg libraries to facilitate the transfer, ensuring data integrity and compatibility with Azure’s storage system. This requires MinIO access, Azure credentials, and the Iceberg library installation."
   ]
  },
  {
   "cell_type": "code",
   "execution_count": 1,
   "id": "e5d3f390",
   "metadata": {},
   "outputs": [
    {
     "name": "stdout",
     "output_type": "stream",
     "text": [
      "Requirement already satisfied: pandas in /opt/conda/lib/python3.11/site-packages (2.3.2)\n",
      "Requirement already satisfied: pyarrow in /opt/conda/lib/python3.11/site-packages (21.0.0)\n",
      "Requirement already satisfied: fsspec in /opt/conda/lib/python3.11/site-packages (2025.9.0)\n",
      "Requirement already satisfied: s3fs in /opt/conda/lib/python3.11/site-packages (2025.9.0)\n",
      "Requirement already satisfied: adlfs in /opt/conda/lib/python3.11/site-packages (2025.8.0)\n",
      "Requirement already satisfied: dlt[filesystem] in /opt/conda/lib/python3.11/site-packages (1.15.0)\n",
      "Requirement already satisfied: numpy>=1.23.2 in /opt/conda/lib/python3.11/site-packages (from pandas) (2.3.2)\n",
      "Requirement already satisfied: python-dateutil>=2.8.2 in /opt/conda/lib/python3.11/site-packages (from pandas) (2.8.2)\n",
      "Requirement already satisfied: pytz>=2020.1 in /opt/conda/lib/python3.11/site-packages (from pandas) (2023.3.post1)\n",
      "Requirement already satisfied: tzdata>=2022.7 in /opt/conda/lib/python3.11/site-packages (from pandas) (2025.2)\n",
      "Requirement already satisfied: click>=7.1 in /opt/conda/lib/python3.11/site-packages (from dlt[filesystem]) (8.2.1)\n",
      "Requirement already satisfied: gitpython>=3.1.29 in /opt/conda/lib/python3.11/site-packages (from dlt[filesystem]) (3.1.45)\n",
      "Requirement already satisfied: giturlparse>=0.10.0 in /opt/conda/lib/python3.11/site-packages (from dlt[filesystem]) (0.12.0)\n",
      "Requirement already satisfied: hexbytes>=0.2.2 in /opt/conda/lib/python3.11/site-packages (from dlt[filesystem]) (1.3.1)\n",
      "Requirement already satisfied: humanize>=4.4.0 in /opt/conda/lib/python3.11/site-packages (from dlt[filesystem]) (4.13.0)\n",
      "Requirement already satisfied: jsonpath-ng>=1.5.3 in /opt/conda/lib/python3.11/site-packages (from dlt[filesystem]) (1.7.0)\n",
      "Requirement already satisfied: orjson!=3.10.1,!=3.9.11,!=3.9.12,!=3.9.13,!=3.9.14,<4,>=3.6.7 in /opt/conda/lib/python3.11/site-packages (from dlt[filesystem]) (3.11.3)\n",
      "Requirement already satisfied: packaging>=21.1 in /opt/conda/lib/python3.11/site-packages (from dlt[filesystem]) (23.2)\n",
      "Requirement already satisfied: pathvalidate>=2.5.2 in /opt/conda/lib/python3.11/site-packages (from dlt[filesystem]) (3.3.1)\n",
      "Requirement already satisfied: pendulum>=2.1.2 in /opt/conda/lib/python3.11/site-packages (from dlt[filesystem]) (3.1.0)\n",
      "Requirement already satisfied: pluggy>=1.3.0 in /opt/conda/lib/python3.11/site-packages (from dlt[filesystem]) (1.3.0)\n",
      "Requirement already satisfied: pyyaml>=5.4.1 in /opt/conda/lib/python3.11/site-packages (from dlt[filesystem]) (6.0.1)\n",
      "Requirement already satisfied: requests>=2.26.0 in /opt/conda/lib/python3.11/site-packages (from dlt[filesystem]) (2.31.0)\n",
      "Requirement already satisfied: requirements-parser>=0.5.0 in /opt/conda/lib/python3.11/site-packages (from dlt[filesystem]) (0.13.0)\n",
      "Requirement already satisfied: rich-argparse>=1.6.0 in /opt/conda/lib/python3.11/site-packages (from dlt[filesystem]) (1.7.1)\n",
      "Requirement already satisfied: semver>=3.0.0 in /opt/conda/lib/python3.11/site-packages (from dlt[filesystem]) (3.0.4)\n",
      "Requirement already satisfied: setuptools>=65.6.0 in /opt/conda/lib/python3.11/site-packages (from dlt[filesystem]) (68.2.2)\n",
      "Requirement already satisfied: simplejson>=3.17.5 in /opt/conda/lib/python3.11/site-packages (from dlt[filesystem]) (3.20.1)\n",
      "Requirement already satisfied: sqlglot>=25.4.0 in /opt/conda/lib/python3.11/site-packages (from dlt[filesystem]) (27.12.0)\n",
      "Requirement already satisfied: tenacity>=8.0.2 in /opt/conda/lib/python3.11/site-packages (from dlt[filesystem]) (9.1.2)\n",
      "Requirement already satisfied: tomlkit>=0.11.3 in /opt/conda/lib/python3.11/site-packages (from dlt[filesystem]) (0.13.3)\n",
      "Requirement already satisfied: typing-extensions>=4.8.0 in /opt/conda/lib/python3.11/site-packages (from dlt[filesystem]) (4.8.0)\n",
      "Requirement already satisfied: botocore>=1.28 in /opt/conda/lib/python3.11/site-packages (from dlt[filesystem]) (1.40.18)\n",
      "Requirement already satisfied: aiobotocore<3.0.0,>=2.5.4 in /opt/conda/lib/python3.11/site-packages (from s3fs) (2.24.2)\n",
      "Requirement already satisfied: aiohttp!=4.0.0a0,!=4.0.0a1 in /opt/conda/lib/python3.11/site-packages (from s3fs) (3.12.15)\n",
      "Requirement already satisfied: azure-core<2.0.0,>=1.28.0 in /opt/conda/lib/python3.11/site-packages (from adlfs) (1.35.0)\n",
      "Requirement already satisfied: azure-datalake-store<0.1,>=0.0.53 in /opt/conda/lib/python3.11/site-packages (from adlfs) (0.0.53)\n",
      "Requirement already satisfied: azure-identity in /opt/conda/lib/python3.11/site-packages (from adlfs) (1.24.0)\n",
      "Requirement already satisfied: azure-storage-blob>=12.17.0 in /opt/conda/lib/python3.11/site-packages (from adlfs) (12.26.0)\n",
      "Requirement already satisfied: aioitertools<1.0.0,>=0.5.1 in /opt/conda/lib/python3.11/site-packages (from aiobotocore<3.0.0,>=2.5.4->s3fs) (0.12.0)\n",
      "Requirement already satisfied: jmespath<2.0.0,>=0.7.1 in /opt/conda/lib/python3.11/site-packages (from aiobotocore<3.0.0,>=2.5.4->s3fs) (1.0.1)\n",
      "Requirement already satisfied: multidict<7.0.0,>=6.0.0 in /opt/conda/lib/python3.11/site-packages (from aiobotocore<3.0.0,>=2.5.4->s3fs) (6.6.4)\n",
      "Requirement already satisfied: wrapt<2.0.0,>=1.10.10 in /opt/conda/lib/python3.11/site-packages (from aiobotocore<3.0.0,>=2.5.4->s3fs) (1.17.3)\n",
      "Requirement already satisfied: aiohappyeyeballs>=2.5.0 in /opt/conda/lib/python3.11/site-packages (from aiohttp!=4.0.0a0,!=4.0.0a1->s3fs) (2.6.1)\n",
      "Requirement already satisfied: aiosignal>=1.4.0 in /opt/conda/lib/python3.11/site-packages (from aiohttp!=4.0.0a0,!=4.0.0a1->s3fs) (1.4.0)\n",
      "Requirement already satisfied: attrs>=17.3.0 in /opt/conda/lib/python3.11/site-packages (from aiohttp!=4.0.0a0,!=4.0.0a1->s3fs) (23.1.0)\n",
      "Requirement already satisfied: frozenlist>=1.1.1 in /opt/conda/lib/python3.11/site-packages (from aiohttp!=4.0.0a0,!=4.0.0a1->s3fs) (1.7.0)\n",
      "Requirement already satisfied: propcache>=0.2.0 in /opt/conda/lib/python3.11/site-packages (from aiohttp!=4.0.0a0,!=4.0.0a1->s3fs) (0.3.2)\n",
      "Requirement already satisfied: yarl<2.0,>=1.17.0 in /opt/conda/lib/python3.11/site-packages (from aiohttp!=4.0.0a0,!=4.0.0a1->s3fs) (1.20.1)\n",
      "Requirement already satisfied: six>=1.11.0 in /opt/conda/lib/python3.11/site-packages (from azure-core<2.0.0,>=1.28.0->adlfs) (1.16.0)\n",
      "Requirement already satisfied: cffi in /opt/conda/lib/python3.11/site-packages (from azure-datalake-store<0.1,>=0.0.53->adlfs) (1.16.0)\n",
      "Requirement already satisfied: msal<2,>=1.16.0 in /opt/conda/lib/python3.11/site-packages (from azure-datalake-store<0.1,>=0.0.53->adlfs) (1.33.0)\n",
      "Requirement already satisfied: cryptography>=2.1.4 in /opt/conda/lib/python3.11/site-packages (from azure-storage-blob>=12.17.0->adlfs) (41.0.4)\n",
      "Requirement already satisfied: isodate>=0.6.1 in /opt/conda/lib/python3.11/site-packages (from azure-storage-blob>=12.17.0->adlfs) (0.7.2)\n",
      "Requirement already satisfied: urllib3!=2.2.0,<3,>=1.25.4 in /opt/conda/lib/python3.11/site-packages (from botocore>=1.28->dlt[filesystem]) (2.0.7)\n",
      "Requirement already satisfied: gitdb<5,>=4.0.1 in /opt/conda/lib/python3.11/site-packages (from gitpython>=3.1.29->dlt[filesystem]) (4.0.12)\n",
      "Requirement already satisfied: ply in /opt/conda/lib/python3.11/site-packages (from jsonpath-ng>=1.5.3->dlt[filesystem]) (3.11)\n",
      "Requirement already satisfied: charset-normalizer<4,>=2 in /opt/conda/lib/python3.11/site-packages (from requests>=2.26.0->dlt[filesystem]) (3.3.0)\n",
      "Requirement already satisfied: idna<4,>=2.5 in /opt/conda/lib/python3.11/site-packages (from requests>=2.26.0->dlt[filesystem]) (3.4)\n",
      "Requirement already satisfied: certifi>=2017.4.17 in /opt/conda/lib/python3.11/site-packages (from requests>=2.26.0->dlt[filesystem]) (2023.7.22)\n",
      "Requirement already satisfied: rich>=11.0.0 in /opt/conda/lib/python3.11/site-packages (from rich-argparse>=1.6.0->dlt[filesystem]) (14.1.0)\n",
      "Requirement already satisfied: msal-extensions>=1.2.0 in /opt/conda/lib/python3.11/site-packages (from azure-identity->adlfs) (1.3.1)\n",
      "Requirement already satisfied: pycparser in /opt/conda/lib/python3.11/site-packages (from cffi->azure-datalake-store<0.1,>=0.0.53->adlfs) (2.21)\n",
      "Requirement already satisfied: smmap<6,>=3.0.1 in /opt/conda/lib/python3.11/site-packages (from gitdb<5,>=4.0.1->gitpython>=3.1.29->dlt[filesystem]) (5.0.2)\n",
      "Requirement already satisfied: PyJWT<3,>=1.0.0 in /opt/conda/lib/python3.11/site-packages (from PyJWT[crypto]<3,>=1.0.0->msal<2,>=1.16.0->azure-datalake-store<0.1,>=0.0.53->adlfs) (2.8.0)\n",
      "Requirement already satisfied: markdown-it-py>=2.2.0 in /opt/conda/lib/python3.11/site-packages (from rich>=11.0.0->rich-argparse>=1.6.0->dlt[filesystem]) (4.0.0)\n",
      "Requirement already satisfied: pygments<3.0.0,>=2.13.0 in /opt/conda/lib/python3.11/site-packages (from rich>=11.0.0->rich-argparse>=1.6.0->dlt[filesystem]) (2.16.1)\n",
      "Requirement already satisfied: mdurl~=0.1 in /opt/conda/lib/python3.11/site-packages (from markdown-it-py>=2.2.0->rich>=11.0.0->rich-argparse>=1.6.0->dlt[filesystem]) (0.1.2)\n"
     ]
    }
   ],
   "source": [
    "!pip install pandas pyarrow fsspec s3fs adlfs dlt-hub"
   ]
  },
  {
   "cell_type": "code",
   "execution_count": null,
   "id": "2529d99f",
   "metadata": {},
   "outputs": [],
   "source": [
    "import dlt\n",
    "from dlt.sources.filesystem  import readers\n",
    "import logging"
   ]
  },
  {
   "cell_type": "code",
   "execution_count": null,
   "id": "ee0f57c4",
   "metadata": {},
   "outputs": [],
   "source": [
    "logging.basicConfig(\n",
    "    level=logging.INFO,\n",
    "    format=\"%(asctime)s - %(levelname)s - %(message)s\"\n",
    ")\n",
    "logger = logging.getLogger(\"minio_to_azure\")"
   ]
  },
  {
   "cell_type": "code",
   "execution_count": null,
   "id": "60a3ac92",
   "metadata": {},
   "outputs": [],
   "source": [
    "pipeline_config = {\n",
    "    \"pipeline_name\": \"s3_to_adls\",\n",
    "    \"destination\": \"filesystem\",\n",
    "    \"dataset_name\": \"grupo_2_parquet\",\n",
    "}\n",
    "\n",
    "try:\n",
    "    pipeline = dlt.pipeline(**pipeline_config)\n",
    "    logger.info(\"Pipeline configured successfully.\")\n",
    "except Exception as e:\n",
    "    logger.error(f\"Error configuring the pipeline: {e}\")\n",
    "    raise"
   ]
  },
  {
   "cell_type": "code",
   "execution_count": null,
   "id": "7251ef8c",
   "metadata": {},
   "outputs": [],
   "source": [
    "# Define the Parquet reader resource\n",
    "try:\n",
    "    parquet_reader = readers(\n",
    "        bucket_url=\"s3://grupo-2/grupo_2_parquet/df_data\",  # Source bucket in MinIO\n",
    "        file_glob=\"*.parquet\"                            # Pattern to match Parquet files\n",
    "    ).read_parquet()  # Read Parquet files\n",
    "    parquet_reader = parquet_reader.with_name(\"df_parquet\")  # Assign table name\n",
    "    logger.info(f\"Parquet reader configured for bucket: {parquet_reader.bucket_url}\")\n",
    "except Exception as e:\n",
    "    logger.error(f\"Error configuring Parquet reader: {str(e)}\")\n",
    "    raise"
   ]
  },
  {
   "cell_type": "code",
   "execution_count": null,
   "id": "cea7ca9c",
   "metadata": {},
   "outputs": [],
   "source": [
    "try:\n",
    "    load_info = pipeline.run(\n",
    "        parquet_reader,\n",
    "        loader_file_format=\"parquet\",\n",
    "        write_disposition=\"replace\"\n",
    "    )\n",
    "    logger.info(\"Pipeline execution completed successfully.\")\n",
    "    print(f\"Load info: {load_info}\")\n",
    "except Exception as e:\n",
    "    logger.error(f\"Error executing pipeline: {str(e)}\")\n",
    "    raise"
   ]
  }
 ],
 "metadata": {
  "kernelspec": {
   "display_name": "Python 3 (ipykernel)",
   "language": "python",
   "name": "python3"
  },
  "language_info": {
   "codemirror_mode": {
    "name": "ipython",
    "version": 3
   },
   "file_extension": ".py",
   "mimetype": "text/x-python",
   "name": "python",
   "nbconvert_exporter": "python",
   "pygments_lexer": "ipython3",
   "version": "3.11.6"
  }
 },
 "nbformat": 4,
 "nbformat_minor": 5
}
