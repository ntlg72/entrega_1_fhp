{
 "cells": [
  {
   "cell_type": "markdown",
   "id": "873cc38f",
   "metadata": {},
   "source": [
    "# 1. http to bucket\n",
    "\n",
    "This notebook demonstrates how to save a Parquet file from a remote data source into a MinIO object storage bucket."
   ]
  },
  {
   "cell_type": "code",
   "execution_count": 1,
   "id": "3ca31d9c",
   "metadata": {},
   "outputs": [
    {
     "name": "stdout",
     "output_type": "stream",
     "text": [
      "Requirement already satisfied: pandas in /opt/conda/lib/python3.11/site-packages (2.3.2)\n",
      "Requirement already satisfied: pyarrow in /opt/conda/lib/python3.11/site-packages (21.0.0)\n",
      "Requirement already satisfied: fsspec in /opt/conda/lib/python3.11/site-packages (2025.9.0)\n",
      "Requirement already satisfied: s3fs in /opt/conda/lib/python3.11/site-packages (2025.9.0)\n",
      "Requirement already satisfied: adlfs in /opt/conda/lib/python3.11/site-packages (2025.8.0)\n",
      "Requirement already satisfied: tzdata in /opt/conda/lib/python3.11/site-packages (2025.2)\n",
      "Requirement already satisfied: dlt[filesystem] in /opt/conda/lib/python3.11/site-packages (1.16.0)\n",
      "Requirement already satisfied: numpy>=1.23.2 in /opt/conda/lib/python3.11/site-packages (from pandas) (2.3.3)\n",
      "Requirement already satisfied: python-dateutil>=2.8.2 in /opt/conda/lib/python3.11/site-packages (from pandas) (2.8.2)\n",
      "Requirement already satisfied: pytz>=2020.1 in /opt/conda/lib/python3.11/site-packages (from pandas) (2023.3.post1)\n",
      "Requirement already satisfied: click>=7.1 in /opt/conda/lib/python3.11/site-packages (from dlt[filesystem]) (8.2.1)\n",
      "Requirement already satisfied: gitpython>=3.1.29 in /opt/conda/lib/python3.11/site-packages (from dlt[filesystem]) (3.1.45)\n",
      "Requirement already satisfied: giturlparse>=0.10.0 in /opt/conda/lib/python3.11/site-packages (from dlt[filesystem]) (0.12.0)\n",
      "Requirement already satisfied: hexbytes>=0.2.2 in /opt/conda/lib/python3.11/site-packages (from dlt[filesystem]) (1.3.1)\n",
      "Requirement already satisfied: humanize>=4.4.0 in /opt/conda/lib/python3.11/site-packages (from dlt[filesystem]) (4.13.0)\n",
      "Requirement already satisfied: jsonpath-ng>=1.5.3 in /opt/conda/lib/python3.11/site-packages (from dlt[filesystem]) (1.7.0)\n",
      "Requirement already satisfied: orjson!=3.10.1,!=3.9.11,!=3.9.12,!=3.9.13,!=3.9.14,<4,>=3.6.7 in /opt/conda/lib/python3.11/site-packages (from dlt[filesystem]) (3.11.3)\n",
      "Requirement already satisfied: packaging>=21.1 in /opt/conda/lib/python3.11/site-packages (from dlt[filesystem]) (23.2)\n",
      "Requirement already satisfied: pathvalidate>=2.5.2 in /opt/conda/lib/python3.11/site-packages (from dlt[filesystem]) (3.3.1)\n",
      "Requirement already satisfied: pendulum>=2.1.2 in /opt/conda/lib/python3.11/site-packages (from dlt[filesystem]) (3.1.0)\n",
      "Requirement already satisfied: pluggy>=1.3.0 in /opt/conda/lib/python3.11/site-packages (from dlt[filesystem]) (1.3.0)\n",
      "Requirement already satisfied: pyyaml>=5.4.1 in /opt/conda/lib/python3.11/site-packages (from dlt[filesystem]) (6.0.1)\n",
      "Requirement already satisfied: requests>=2.26.0 in /opt/conda/lib/python3.11/site-packages (from dlt[filesystem]) (2.31.0)\n",
      "Requirement already satisfied: requirements-parser>=0.5.0 in /opt/conda/lib/python3.11/site-packages (from dlt[filesystem]) (0.13.0)\n",
      "Requirement already satisfied: rich-argparse>=1.6.0 in /opt/conda/lib/python3.11/site-packages (from dlt[filesystem]) (1.7.1)\n",
      "Requirement already satisfied: semver>=3.0.0 in /opt/conda/lib/python3.11/site-packages (from dlt[filesystem]) (3.0.4)\n",
      "Requirement already satisfied: setuptools>=65.6.0 in /opt/conda/lib/python3.11/site-packages (from dlt[filesystem]) (68.2.2)\n",
      "Requirement already satisfied: simplejson>=3.17.5 in /opt/conda/lib/python3.11/site-packages (from dlt[filesystem]) (3.20.1)\n",
      "Requirement already satisfied: sqlglot>=25.4.0 in /opt/conda/lib/python3.11/site-packages (from dlt[filesystem]) (27.13.2)\n",
      "Requirement already satisfied: tenacity>=8.0.2 in /opt/conda/lib/python3.11/site-packages (from dlt[filesystem]) (9.1.2)\n",
      "Requirement already satisfied: tomlkit>=0.11.3 in /opt/conda/lib/python3.11/site-packages (from dlt[filesystem]) (0.13.3)\n",
      "Requirement already satisfied: typing-extensions>=4.8.0 in /opt/conda/lib/python3.11/site-packages (from dlt[filesystem]) (4.8.0)\n",
      "Requirement already satisfied: botocore>=1.28 in /opt/conda/lib/python3.11/site-packages (from dlt[filesystem]) (1.40.18)\n",
      "Requirement already satisfied: aiobotocore<3.0.0,>=2.5.4 in /opt/conda/lib/python3.11/site-packages (from s3fs) (2.24.2)\n",
      "Requirement already satisfied: aiohttp!=4.0.0a0,!=4.0.0a1 in /opt/conda/lib/python3.11/site-packages (from s3fs) (3.12.15)\n",
      "Requirement already satisfied: azure-core<2.0.0,>=1.28.0 in /opt/conda/lib/python3.11/site-packages (from adlfs) (1.35.0)\n",
      "Requirement already satisfied: azure-datalake-store<0.1,>=0.0.53 in /opt/conda/lib/python3.11/site-packages (from adlfs) (0.0.53)\n",
      "Requirement already satisfied: azure-identity in /opt/conda/lib/python3.11/site-packages (from adlfs) (1.24.0)\n",
      "Requirement already satisfied: azure-storage-blob>=12.17.0 in /opt/conda/lib/python3.11/site-packages (from adlfs) (12.26.0)\n",
      "Requirement already satisfied: aioitertools<1.0.0,>=0.5.1 in /opt/conda/lib/python3.11/site-packages (from aiobotocore<3.0.0,>=2.5.4->s3fs) (0.12.0)\n",
      "Requirement already satisfied: jmespath<2.0.0,>=0.7.1 in /opt/conda/lib/python3.11/site-packages (from aiobotocore<3.0.0,>=2.5.4->s3fs) (1.0.1)\n",
      "Requirement already satisfied: multidict<7.0.0,>=6.0.0 in /opt/conda/lib/python3.11/site-packages (from aiobotocore<3.0.0,>=2.5.4->s3fs) (6.6.4)\n",
      "Requirement already satisfied: wrapt<2.0.0,>=1.10.10 in /opt/conda/lib/python3.11/site-packages (from aiobotocore<3.0.0,>=2.5.4->s3fs) (1.17.3)\n",
      "Requirement already satisfied: aiohappyeyeballs>=2.5.0 in /opt/conda/lib/python3.11/site-packages (from aiohttp!=4.0.0a0,!=4.0.0a1->s3fs) (2.6.1)\n",
      "Requirement already satisfied: aiosignal>=1.4.0 in /opt/conda/lib/python3.11/site-packages (from aiohttp!=4.0.0a0,!=4.0.0a1->s3fs) (1.4.0)\n",
      "Requirement already satisfied: attrs>=17.3.0 in /opt/conda/lib/python3.11/site-packages (from aiohttp!=4.0.0a0,!=4.0.0a1->s3fs) (23.1.0)\n",
      "Requirement already satisfied: frozenlist>=1.1.1 in /opt/conda/lib/python3.11/site-packages (from aiohttp!=4.0.0a0,!=4.0.0a1->s3fs) (1.7.0)\n",
      "Requirement already satisfied: propcache>=0.2.0 in /opt/conda/lib/python3.11/site-packages (from aiohttp!=4.0.0a0,!=4.0.0a1->s3fs) (0.3.2)\n",
      "Requirement already satisfied: yarl<2.0,>=1.17.0 in /opt/conda/lib/python3.11/site-packages (from aiohttp!=4.0.0a0,!=4.0.0a1->s3fs) (1.20.1)\n",
      "Requirement already satisfied: six>=1.11.0 in /opt/conda/lib/python3.11/site-packages (from azure-core<2.0.0,>=1.28.0->adlfs) (1.16.0)\n",
      "Requirement already satisfied: cffi in /opt/conda/lib/python3.11/site-packages (from azure-datalake-store<0.1,>=0.0.53->adlfs) (1.16.0)\n",
      "Requirement already satisfied: msal<2,>=1.16.0 in /opt/conda/lib/python3.11/site-packages (from azure-datalake-store<0.1,>=0.0.53->adlfs) (1.33.0)\n",
      "Requirement already satisfied: cryptography>=2.1.4 in /opt/conda/lib/python3.11/site-packages (from azure-storage-blob>=12.17.0->adlfs) (41.0.4)\n",
      "Requirement already satisfied: isodate>=0.6.1 in /opt/conda/lib/python3.11/site-packages (from azure-storage-blob>=12.17.0->adlfs) (0.7.2)\n",
      "Requirement already satisfied: urllib3!=2.2.0,<3,>=1.25.4 in /opt/conda/lib/python3.11/site-packages (from botocore>=1.28->dlt[filesystem]) (2.0.7)\n",
      "Requirement already satisfied: gitdb<5,>=4.0.1 in /opt/conda/lib/python3.11/site-packages (from gitpython>=3.1.29->dlt[filesystem]) (4.0.12)\n",
      "Requirement already satisfied: ply in /opt/conda/lib/python3.11/site-packages (from jsonpath-ng>=1.5.3->dlt[filesystem]) (3.11)\n",
      "Requirement already satisfied: charset-normalizer<4,>=2 in /opt/conda/lib/python3.11/site-packages (from requests>=2.26.0->dlt[filesystem]) (3.3.0)\n",
      "Requirement already satisfied: idna<4,>=2.5 in /opt/conda/lib/python3.11/site-packages (from requests>=2.26.0->dlt[filesystem]) (3.4)\n",
      "Requirement already satisfied: certifi>=2017.4.17 in /opt/conda/lib/python3.11/site-packages (from requests>=2.26.0->dlt[filesystem]) (2023.7.22)\n",
      "Requirement already satisfied: rich>=11.0.0 in /opt/conda/lib/python3.11/site-packages (from rich-argparse>=1.6.0->dlt[filesystem]) (14.1.0)\n",
      "Requirement already satisfied: msal-extensions>=1.2.0 in /opt/conda/lib/python3.11/site-packages (from azure-identity->adlfs) (1.3.1)\n",
      "Requirement already satisfied: pycparser in /opt/conda/lib/python3.11/site-packages (from cffi->azure-datalake-store<0.1,>=0.0.53->adlfs) (2.21)\n",
      "Requirement already satisfied: smmap<6,>=3.0.1 in /opt/conda/lib/python3.11/site-packages (from gitdb<5,>=4.0.1->gitpython>=3.1.29->dlt[filesystem]) (5.0.2)\n",
      "Requirement already satisfied: PyJWT<3,>=1.0.0 in /opt/conda/lib/python3.11/site-packages (from PyJWT[crypto]<3,>=1.0.0->msal<2,>=1.16.0->azure-datalake-store<0.1,>=0.0.53->adlfs) (2.8.0)\n",
      "Requirement already satisfied: markdown-it-py>=2.2.0 in /opt/conda/lib/python3.11/site-packages (from rich>=11.0.0->rich-argparse>=1.6.0->dlt[filesystem]) (4.0.0)\n",
      "Requirement already satisfied: pygments<3.0.0,>=2.13.0 in /opt/conda/lib/python3.11/site-packages (from rich>=11.0.0->rich-argparse>=1.6.0->dlt[filesystem]) (2.16.1)\n",
      "Requirement already satisfied: mdurl~=0.1 in /opt/conda/lib/python3.11/site-packages (from markdown-it-py>=2.2.0->rich>=11.0.0->rich-argparse>=1.6.0->dlt[filesystem]) (0.1.2)\n",
      "Note: you may need to restart the kernel to use updated packages.\n"
     ]
    }
   ],
   "source": [
    "%pip install pandas pyarrow fsspec dlt[filesystem] s3fs adlfs tzdata"
   ]
  },
  {
   "cell_type": "code",
   "execution_count": 1,
   "id": "4fc1ecd1",
   "metadata": {},
   "outputs": [],
   "source": [
    "import pandas as pd\n",
    "import logging\n",
    "import pyarrow.parquet as pq\n",
    "import fsspec\n",
    "import dlt"
   ]
  },
  {
   "cell_type": "code",
   "execution_count": 2,
   "id": "3f98e283",
   "metadata": {},
   "outputs": [],
   "source": [
    "logging.basicConfig(\n",
    "    level=logging.INFO,\n",
    "    format=\"%(asctime)s - %(levelname)s - %(message)s\"\n",
    ")\n",
    "logger = logging.getLogger(\"parquet_pipeline\")"
   ]
  },
  {
   "cell_type": "code",
   "execution_count": 3,
   "id": "4d1b7df9",
   "metadata": {},
   "outputs": [],
   "source": [
    "url = \"https://d37ci6vzurychx.cloudfront.net/trip-data/yellow_tripdata_2025-01.parquet\""
   ]
  },
  {
   "cell_type": "code",
   "execution_count": null,
   "id": "f082b3ef",
   "metadata": {},
   "outputs": [],
   "source": [
    "\n",
    "@dlt.resource(table_name=\"df_data\")\n",
    "def my_df(url: str) -> pd.DataFrame:\n",
    "    try:\n",
    "        with fsspec.open(url, mode=\"rb\") as f:\n",
    "            table = pq.read_table(f)\n",
    "            df = table.to_pandas()\n",
    "            yield df\n",
    "\n",
    "    except Exception as e:\n",
    "        logger.error(f\"Error: {e}\")\n",
    "        raise"
   ]
  },
  {
   "cell_type": "code",
   "execution_count": 5,
   "id": "2ae85f35-0dfd-480d-a4b4-e05c01f2824c",
   "metadata": {},
   "outputs": [
    {
     "name": "stderr",
     "output_type": "stream",
     "text": [
      "2025-09-12 15:44:59,221 - INFO - Pipeline configured successfully.\n"
     ]
    }
   ],
   "source": [
    "pipeline_config = {\n",
    "    \"pipeline_name\": \"parquet_to_minio\",\n",
    "    \"destination\": \"filesystem\",\n",
    "    \"dataset_name\": \"grupo_2_parquet\",\n",
    "}\n",
    "\n",
    "try:\n",
    "    pipeline = dlt.pipeline(**pipeline_config)\n",
    "    logger.info(\"Pipeline configured successfully.\")\n",
    "except Exception as e:\n",
    "    logger.error(f\"Error configuring the pipeline: {e}\")\n",
    "    raise"
   ]
  },
  {
   "cell_type": "code",
   "execution_count": 6,
   "id": "cfe31725",
   "metadata": {},
   "outputs": [
    {
     "name": "stderr",
     "output_type": "stream",
     "text": [
      "2025-09-12 15:45:10,947 - INFO - Pipeline sucessfully executed. Load info: Pipeline parquet_to_minio load step completed in 1.11 seconds\n",
      "1 load package(s) were loaded to destination filesystem and into dataset grupo_2_parquet\n",
      "The filesystem destination used s3://grupo-2 location to store data\n",
      "Load package 1757691902.3208005 is LOADED and contains no failed jobs\n"
     ]
    }
   ],
   "source": [
    "try:\n",
    "    load_info = pipeline.run(\n",
    "        my_df(url),\n",
    "        loader_file_format=\"parquet\",\n",
    "        write_disposition=\"replace\"\n",
    "    )\n",
    "    logger.info(f\"Pipeline sucessfully executed. Load info: {load_info}\")\n",
    "except Exception as e:\n",
    "    logger.error(f\"Error while executing pipeline: {e}\")\n",
    "    raise"
   ]
  }
 ],
 "metadata": {
  "kernelspec": {
   "display_name": "Python 3 (ipykernel)",
   "language": "python",
   "name": "python3"
  },
  "language_info": {
   "codemirror_mode": {
    "name": "ipython",
    "version": 3
   },
   "file_extension": ".py",
   "mimetype": "text/x-python",
   "name": "python",
   "nbconvert_exporter": "python",
   "pygments_lexer": "ipython3",
   "version": "3.11.6"
  }
 },
 "nbformat": 4,
 "nbformat_minor": 5
}
