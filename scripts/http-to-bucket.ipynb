{
 "cells": [
  {
   "cell_type": "code",
   "execution_count": null,
   "id": "3ca31d9c",
   "metadata": {},
   "outputs": [],
   "source": [
    "!pip install pandas pyarrow fsspec dlt[filesystem] s3fs adlfs"
   ]
  },
  {
   "cell_type": "code",
   "execution_count": null,
   "id": "4fc1ecd1",
   "metadata": {},
   "outputs": [],
   "source": [
    "import pandas as pd\n",
    "import logging\n",
    "import pyarrow.parquet as pq\n",
    "import fsspec\n",
    "import dlt"
   ]
  },
  {
   "cell_type": "code",
   "execution_count": null,
   "id": "3f98e283",
   "metadata": {},
   "outputs": [],
   "source": [
    "logging.basicConfig(\n",
    "    level=logging.INFO,\n",
    "    format=\"%(asctime)s - %(levelname)s - %(message)s\"\n",
    ")\n",
    "logger = logging.getLogger(\"parquet_pipeline\")"
   ]
  },
  {
   "cell_type": "code",
   "execution_count": null,
   "id": "4d1b7df9",
   "metadata": {},
   "outputs": [],
   "source": [
    "url = \"https://d37ci6vzurychx.cloudfront.net/trip-data/yellow_tripdata_2025-01.parquet\""
   ]
  },
  {
   "cell_type": "code",
   "execution_count": null,
   "id": "f082b3ef",
   "metadata": {},
   "outputs": [],
   "source": [
    "pipeline_config = {\n",
    "    \"pipeline_name\": \"parquet_to_minio\",\n",
    "    \"destination\": \"filesystem\",\n",
    "    \"dataset_name\": \"grupo_2_parquet\",\n",
    "}\n",
    "\n",
    "try:\n",
    "    pipeline = dlt.pipeline(**pipeline_config)\n",
    "    logger.info(\"Pipeline inicializado correctamente.\")\n",
    "except Exception as e:\n",
    "    logger.error(f\"Error al inicializar el pipeline: {e}\")\n",
    "    raise"
   ]
  },
  {
   "cell_type": "code",
   "execution_count": null,
   "id": "c1eb5005",
   "metadata": {},
   "outputs": [],
   "source": [
    "pipeline_config = {\n",
    "    \"pipeline_name\": \"parquet_to_minio\",\n",
    "    \"destination\": \"filesystem\",\n",
    "    \"dataset_name\": \"grupo_2_parquet\",\n",
    "}\n",
    "\n",
    "try:\n",
    "    pipeline = dlt.pipeline(**pipeline_config)\n",
    "    logger.info(\"Pipeline inicializado correctamente.\")\n",
    "except Exception as e:\n",
    "    logger.error(f\"Error al inicializar el pipeline: {e}\")\n",
    "    raise"
   ]
  },
  {
   "cell_type": "code",
   "execution_count": null,
   "id": "cfe31725",
   "metadata": {},
   "outputs": [],
   "source": [
    "try:\n",
    "    load_info = pipeline.run(\n",
    "        extract_parquet(url),\n",
    "        loader_file_format=\"parquet\",\n",
    "        write_disposition=\"replace\"\n",
    "    )\n",
    "    logger.info(f\"Pipeline ejecutado con éxito. Info de carga: {load_info}\")\n",
    "except Exception as e:\n",
    "    logger.error(f\"Error al ejecutar el pipeline: {e}\")\n",
    "    raise"
   ]
  }
 ],
 "metadata": {
  "language_info": {
   "name": "python"
  }
 },
 "nbformat": 4,
 "nbformat_minor": 5
}
